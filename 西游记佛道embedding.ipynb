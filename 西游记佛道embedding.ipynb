{
 "cells": [
  {
   "cell_type": "code",
   "execution_count": 47,
   "id": "d2adab64-dc07-457e-aad6-b14c674375f5",
   "metadata": {},
   "outputs": [],
   "source": [
    "import jieba\n",
    "import numpy as np\n",
    "from gensim.models import Word2Vec\n",
    "from sklearn.decomposition import PCA\n",
    "import matplotlib.pyplot as plt\n",
    "from collections import Counter"
   ]
  },
  {
   "cell_type": "code",
   "execution_count": 9,
   "id": "16b83d1a-76b3-4704-8d64-d69185ad32c3",
   "metadata": {},
   "outputs": [],
   "source": [
    "# 佛教和道教词典\n",
    "buddhism_words = \"\"\"\n",
    "佛 菩萨 僧 和尚 住持 庙 经 西天 寺 禅 空 悟 皈 菩提 乘 如来 观音 宗 法 沙弥 罗汉 夜叉 沙门 度/渡 布施 化缘 施主 世尊 迦 伽 婆 比丘 阿鼻地狱 供养 戒 出家 功德 涅槃 劫 慈 悲 愿 弥勒 自在 行者 金刚 清净 供养 袈裟 舍利 南无 钵 无量\n",
    "\"\"\".split()\n",
    "\n",
    "taoism_words = \"\"\"\n",
    "道 丹 仙 神 真 观 玄 五行 无 阴 阳 太极 玉帝 玉皇 天尊 星 太 坛 文昌 三清 龙王 阎罗 造化 本 归 霄 点化 金童 玉女 气 炁 洞天 箓 虚\n",
    "\"\"\".split()\n"
   ]
  },
  {
   "cell_type": "code",
   "execution_count": 52,
   "id": "534f2112-9480-426b-9cb0-57aa30d661e1",
   "metadata": {},
   "outputs": [
    {
     "name": "stdout",
     "output_type": "stream",
     "text": [
      "替换前别名频率： Counter({'行者': 4148, '八戒': 1819, '师父': 1640, '三藏': 1329, '大圣': 1178, '沙僧': 821, '长老': 663, '哥': 590, '呆子': 432, '孙行者': 239, '师兄': 177, '圣僧': 163, '猴王': 143, '齐天大圣': 102, '老猪': 90, '玄奘': 89, '猴子': 78, '悟能': 71, '悟净': 69, '泼猴': 57, '唐三藏': 57, '弼马温': 49, '美猴王': 42, '猴头': 35, '心猿': 33, '夯货': 32, '天蓬元帅': 16, '石猴': 15, '卷帘大将': 11, '唐和尚': 8, '猪刚鬣': 5, '金禅': 4})\n",
      "替换后标准名称频率： Counter({'孙悟空': 7012, '唐僧': 4965, '猪八戒': 2465, '沙和尚': 997})\n",
      "清洗后别名频率： Counter({'八戒': 2465})\n",
      "清洗后的文本已保存到 C:\\Users\\yangx\\Desktop\\与国内的合作\\人大DH组会\\西游记_cleaned_02.txt\n"
     ]
    }
   ],
   "source": [
    "import re\n",
    "from collections import Counter\n",
    "\n",
    "# 定义别名映射字典\n",
    "alias_map = {\n",
    "    '唐僧': ['师父', '唐三藏', '玄奘', '三藏', '长老', '圣僧', '唐和尚', '金蝉禅', '金禅'],\n",
    "    '孙悟空': ['孙行者', '美猴王', '齐天大圣', '石猴', '猴王', '大圣', '行者', '弼马温', '师兄', '泼猴', '猴子', '哥', '猴头', '心猿'],\n",
    "    '猪八戒': ['悟能', '天蓬元帅', '八戒', '呆子', '猪刚鬣', '夯货', '老猪'],\n",
    "    '沙和尚': ['悟净', '卷帘大将', '沙僧']\n",
    "}\n",
    "\n",
    "# 构造反向映射\n",
    "reverse_alias_map = {alias: standard for standard, aliases in alias_map.items() for alias in aliases}\n",
    "\n",
    "# 读取文本\n",
    "input_path = r\"C:\\Users\\yangx\\Desktop\\与国内的合作\\人大DH组会\\西游记.txt\"\n",
    "with open(input_path, \"r\", encoding=\"utf-8\") as f:\n",
    "    text = f.read()\n",
    "\n",
    "# 统计替换前别名频率\n",
    "freq_before = Counter(re.findall('|'.join(map(re.escape, reverse_alias_map.keys())), text))\n",
    "\n",
    "# 使用正则替换别名为标准名称\n",
    "def replace_alias(match):\n",
    "    alias = match.group(0)  # 匹配的别名\n",
    "    return reverse_alias_map[alias]  # 返回对应的标准名称\n",
    "\n",
    "pattern = re.compile('|'.join(map(re.escape, reverse_alias_map.keys())))  # 构造匹配模式\n",
    "cleaned_text = pattern.sub(replace_alias, text)  # 替换\n",
    "\n",
    "# 统计替换后标准名称频率\n",
    "freq_after = Counter(re.findall('|'.join(map(re.escape, alias_map.keys())), cleaned_text))\n",
    "\n",
    "# 确保清洗后别名频率为 0\n",
    "freq_after_alias = Counter(re.findall('|'.join(map(re.escape, reverse_alias_map.keys())), cleaned_text))\n",
    "\n",
    "# 保存清洗后的文本\n",
    "output_path = r\"C:\\Users\\yangx\\Desktop\\与国内的合作\\人大DH组会\\西游记_cleaned_02.txt\"\n",
    "with open(output_path, \"w\", encoding=\"utf-8\") as f:\n",
    "    f.write(cleaned_text)\n",
    "\n",
    "# 输出统计结果\n",
    "print(\"替换前别名频率：\", freq_before)\n",
    "print(\"替换后标准名称频率：\", freq_after)\n",
    "print(\"清洗后别名频率：\", freq_after_alias)\n",
    "print(f\"清洗后的文本已保存到 {output_path}\")\n"
   ]
  },
  {
   "cell_type": "code",
   "execution_count": 53,
   "id": "57e3f0c1-8489-4af3-9958-7a085f8effc1",
   "metadata": {},
   "outputs": [],
   "source": [
    "# 分词\n",
    "words = jieba.lcut(cleaned_text)\n",
    "\n",
    "# 清洗词汇，保留所有词汇，包括佛教和道教词汇\n",
    "cleaned_words = [word for word in words if len(word) > 1]\n",
    "\n",
    "# 构建句子，以佛教和道教词汇为边界\n",
    "# 通过在遇到佛教或道教词汇时开始一个新的句子，我们可以在模型训练中强调这些词汇与其他词汇之间的边界。\n",
    "# 这有助于模型更好地捕捉到宗教词汇与其他词汇之间的关系，从而在后续分析中更准确地评估特定角色与佛教和道教的关系。\n",
    "sentences = []\n",
    "sentence = []\n",
    "for word in cleaned_words:\n",
    "    if word in buddhism_words or word in taoism_words:\n",
    "        if sentence:\n",
    "            sentences.append(sentence)\n",
    "            sentence = [word]  # 以宗教词汇开始新的句子\n",
    "        else:\n",
    "            sentence = [word]\n",
    "    else:\n",
    "        sentence.append(word)\n",
    "if sentence:\n",
    "    sentences.append(sentence)\n"
   ]
  },
  {
   "cell_type": "code",
   "execution_count": 54,
   "id": "ef3bc8ac-2215-49e5-99cb-9594629ef81e",
   "metadata": {},
   "outputs": [
    {
     "name": "stdout",
     "output_type": "stream",
     "text": [
      "筛选后的佛教词汇： ['菩萨', '和尚', '西天', '菩提', '如来', '观音', '罗汉', '夜叉', '沙门', '布施', '施主', '世尊', '比丘', '供养', '出家', '弥勒', '金刚', '供养', '袈裟', '南无', '无量']\n",
      "筛选后的道教词汇： ['五行', '玉帝', '玉皇', '天尊', '三清', '龙王', '造化', '洞天']\n"
     ]
    }
   ],
   "source": [
    "from collections import Counter\n",
    "\n",
    "all_words = [word for sentence in sentences for word in sentence]\n",
    "word_counts = Counter(all_words)\n",
    "\n",
    "# 设置一个阈值，只保留出现次数超过10次的词汇\n",
    "threshold = 10\n",
    "\n",
    "# 筛选佛教和道教词典中的词汇\n",
    "buddhism_words_filtered = [word for word in buddhism_words if word_counts[word] > threshold]\n",
    "taoism_words_filtered = [word for word in taoism_words if word_counts[word] > threshold]\n",
    "\n",
    "# 打印筛选后的词典\n",
    "print(\"筛选后的佛教词汇：\", buddhism_words_filtered)\n",
    "print(\"筛选后的道教词汇：\", taoism_words_filtered)"
   ]
  },
  {
   "cell_type": "code",
   "execution_count": 55,
   "id": "2b015222-d28e-42ba-b9d1-0581ab894bb7",
   "metadata": {},
   "outputs": [],
   "source": [
    "# 训练Word2Vec模型\n",
    "model_1 = Word2Vec(sentences, vector_size=100, window=5, min_count=1, workers=4)"
   ]
  },
  {
   "cell_type": "code",
   "execution_count": 56,
   "id": "615763da-3027-4c1c-a9ec-45737c0684f0",
   "metadata": {},
   "outputs": [],
   "source": [
    "# 获取角色向量\n",
    "characters = ['唐僧', '孙悟空', '猪八戒', '沙和尚']\n",
    "char_vectors = {char: model_1.wv[char] for char in characters if char in model_1.wv}"
   ]
  },
  {
   "cell_type": "code",
   "execution_count": 57,
   "id": "c63060ac-cfbb-464d-b5b6-959b2c005061",
   "metadata": {},
   "outputs": [
    {
     "name": "stdout",
     "output_type": "stream",
     "text": [
      "唐僧 与佛教的加权平均距离: 11.619473845366093\n",
      "唐僧 与道教的加权平均距离: 14.591660077164432\n",
      "孙悟空 与佛教的加权平均距离: 12.451545874163818\n",
      "孙悟空 与道教的加权平均距离: 15.42293284967125\n",
      "猪八戒 与佛教的加权平均距离: 9.99617432773271\n",
      "猪八戒 与道教的加权平均距离: 12.964458146052356\n",
      "沙和尚 与佛教的加权平均距离: 6.625226586177262\n",
      "沙和尚 与道教的加权平均距离: 9.590450507888729\n"
     ]
    }
   ],
   "source": [
    "# 计算每个宗教词汇的向量\n",
    "buddhism_vectors = np.array([model_1.wv[w] for w in buddhism_words_filtered if w in model_1.wv])\n",
    "taoism_vectors = np.array([model_1.wv[w] for w in taoism_words_filtered if w in model_1.wv])\n",
    "\n",
    "# 计算每个宗教词汇的权重\n",
    "buddhism_weights = Counter([word for sentence in sentences for word in sentence if word in buddhism_words_filtered])\n",
    "taoism_weights = Counter([word for sentence in sentences for word in sentence if word in taoism_words_filtered])\n",
    "\n",
    "# 将权重转换为numpy数组，并确保权重值是浮点数类型\n",
    "buddhism_weights_array = np.array([buddhism_weights.get(word, 0) for word in buddhism_words_filtered], dtype=float)\n",
    "taoism_weights_array = np.array([taoism_weights.get(word, 0) for word in taoism_words_filtered], dtype=float)\n",
    "\n",
    "# 计算加权平均距离的函数\n",
    "def weighted_average_distance(vectors, weights, char_vector):\n",
    "    if len(vectors) == 0 or len(weights) == 0:\n",
    "        return 0\n",
    "    weighted_sum = np.zeros(100)\n",
    "    total_weight = 0.0\n",
    "    for vec, weight in zip(vectors, weights):\n",
    "        weighted_sum += vec * weight\n",
    "        total_weight += weight\n",
    "    return np.linalg.norm(weighted_sum / total_weight - char_vector) if total_weight > 0 else 0\n",
    "\n",
    "# 计算每个角色与佛教和道教的加权平均距离\n",
    "buddhism_distances = {char: weighted_average_distance(buddhism_vectors, buddhism_weights_array, char_vector) for char, char_vector in char_vectors.items()}\n",
    "taoism_distances = {char: weighted_average_distance(taoism_vectors, taoism_weights_array, char_vector) for char, char_vector in char_vectors.items()}\n",
    "\n",
    "# 输出结果\n",
    "for char in characters:\n",
    "    if char in model_1.wv:\n",
    "        print(f\"{char} 与佛教的加权平均距离: {buddhism_distances[char]}\")\n",
    "        print(f\"{char} 与道教的加权平均距离: {taoism_distances[char]}\")"
   ]
  },
  {
   "cell_type": "code",
   "execution_count": 59,
   "id": "8d1f7044-2812-4d4e-899d-9a79a233376f",
   "metadata": {},
   "outputs": [],
   "source": [
    "model_2 = Word2Vec(sentences, vector_size=100, window=10, min_count=1, workers=4)"
   ]
  },
  {
   "cell_type": "code",
   "execution_count": 60,
   "id": "52fe9798-ff42-4ca1-b627-0ff0d0e0d5ac",
   "metadata": {},
   "outputs": [
    {
     "name": "stdout",
     "output_type": "stream",
     "text": [
      "唐僧 与佛教的加权平均距离: 15.788889389054194\n",
      "唐僧 与道教的加权平均距离: 19.801046117289136\n",
      "孙悟空 与佛教的加权平均距离: 17.501198811771737\n",
      "孙悟空 与道教的加权平均距离: 21.512895613379303\n",
      "猪八戒 与佛教的加权平均距离: 14.004802130298863\n",
      "猪八戒 与道教的加权平均距离: 18.00960556976409\n",
      "沙和尚 与佛教的加权平均距离: 9.875563360192356\n",
      "沙和尚 与道教的加权平均距离: 13.87743662606008\n"
     ]
    }
   ],
   "source": [
    "# 获取角色向量\n",
    "characters = ['唐僧', '孙悟空', '猪八戒', '沙和尚']\n",
    "char_vectors = {char: model_2.wv[char] for char in characters if char in model_2.wv}\n",
    "\n",
    "# 计算每个宗教词汇的向量\n",
    "buddhism_vectors = np.array([model_2.wv[w] for w in buddhism_words_filtered if w in model_2.wv])\n",
    "taoism_vectors = np.array([model_2.wv[w] for w in taoism_words_filtered if w in model_2.wv])\n",
    "\n",
    "# 计算每个宗教词汇的权重\n",
    "buddhism_weights = Counter([word for sentence in sentences for word in sentence if word in buddhism_words_filtered])\n",
    "taoism_weights = Counter([word for sentence in sentences for word in sentence if word in taoism_words_filtered])\n",
    "\n",
    "# 将权重转换为numpy数组，并确保权重值是浮点数类型\n",
    "buddhism_weights_array = np.array([buddhism_weights.get(word, 0) for word in buddhism_words_filtered], dtype=float)\n",
    "taoism_weights_array = np.array([taoism_weights.get(word, 0) for word in taoism_words_filtered], dtype=float)\n",
    "\n",
    "# 计算加权平均距离的函数\n",
    "def weighted_average_distance(vectors, weights, char_vector):\n",
    "    if len(vectors) == 0 or len(weights) == 0:\n",
    "        return 0\n",
    "    weighted_sum = np.zeros(100)\n",
    "    total_weight = 0.0\n",
    "    for vec, weight in zip(vectors, weights):\n",
    "        weighted_sum += vec * weight\n",
    "        total_weight += weight\n",
    "    return np.linalg.norm(weighted_sum / total_weight - char_vector) if total_weight > 0 else 0\n",
    "\n",
    "# 计算每个角色与佛教和道教的加权平均距离\n",
    "buddhism_distances = {char: weighted_average_distance(buddhism_vectors, buddhism_weights_array, char_vector) for char, char_vector in char_vectors.items()}\n",
    "taoism_distances = {char: weighted_average_distance(taoism_vectors, taoism_weights_array, char_vector) for char, char_vector in char_vectors.items()}\n",
    "\n",
    "# 输出结果\n",
    "for char in characters:\n",
    "    if char in model_2.wv:\n",
    "        print(f\"{char} 与佛教的加权平均距离: {buddhism_distances[char]}\")\n",
    "        print(f\"{char} 与道教的加权平均距离: {taoism_distances[char]}\")"
   ]
  },
  {
   "cell_type": "code",
   "execution_count": null,
   "id": "13b3a0c4-785d-417b-bc34-2f4c49beca4f",
   "metadata": {},
   "outputs": [],
   "source": []
  }
 ],
 "metadata": {
  "kernelspec": {
   "display_name": "Python 3 (ipykernel)",
   "language": "python",
   "name": "python3"
  },
  "language_info": {
   "codemirror_mode": {
    "name": "ipython",
    "version": 3
   },
   "file_extension": ".py",
   "mimetype": "text/x-python",
   "name": "python",
   "nbconvert_exporter": "python",
   "pygments_lexer": "ipython3",
   "version": "3.9.19"
  }
 },
 "nbformat": 4,
 "nbformat_minor": 5
}
